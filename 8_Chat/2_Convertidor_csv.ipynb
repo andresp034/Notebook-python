{
 "cells": [
  {
   "cell_type": "code",
   "execution_count": 1,
   "id": "4dd0578a",
   "metadata": {},
   "outputs": [],
   "source": [
    "import nltk\n",
    "from nltk.stem.lancaster import LancasterStemmer #permite transformar palabras para que sea mas entendible (letras de mas o errores de tipeo, ect).\n",
    "stemmer = LancasterStemmer ()\n",
    "import numpy\n",
    "#import tflearn\n",
    "import tensorflow\n",
    "import json\n",
    "import random\n",
    "import pickle #permite guardar el modelo y no cargarlo cada vez que se ejecute el programa\n",
    "import csv\n",
    "import pandas as pd"
   ]
  },
  {
   "cell_type": "code",
   "execution_count": 44,
   "id": "9ab94290",
   "metadata": {},
   "outputs": [],
   "source": [
    "def make_json(csvFilePath, jsonFilePath):\n",
    "    data = {}\n",
    "    \n",
    "    with open(csvFilePath, encoding='utf-8') as csv_file:\n",
    "        csvReader = csv.DictReader(csv_file)\n",
    "        \n",
    "        for rows in csvReader:\n",
    "            \n",
    "            key = rows['Indice']\n",
    "            data[key] = rows\n",
    "            \n",
    "        with open(jsonFilePath, 'w', encoding='utf-8') as jsonf:\n",
    "            jsonf.write(json.dumps(data, indent=4))"
   ]
  },
  {
   "cell_type": "code",
   "execution_count": 45,
   "id": "72d31cd5",
   "metadata": {},
   "outputs": [
    {
     "ename": "KeyError",
     "evalue": "'Indice'",
     "output_type": "error",
     "traceback": [
      "\u001b[1;31m---------------------------------------------------------------------------\u001b[0m",
      "\u001b[1;31mKeyError\u001b[0m                                  Traceback (most recent call last)",
      "Input \u001b[1;32mIn [45]\u001b[0m, in \u001b[0;36m<cell line: 4>\u001b[1;34m()\u001b[0m\n\u001b[0;32m      1\u001b[0m csvFilePath \u001b[38;5;241m=\u001b[39m \u001b[38;5;124mr\u001b[39m\u001b[38;5;124m'\u001b[39m\u001b[38;5;124mestandar.csv\u001b[39m\u001b[38;5;124m'\u001b[39m\n\u001b[0;32m      2\u001b[0m jsonFilePath \u001b[38;5;241m=\u001b[39m \u001b[38;5;124mr\u001b[39m\u001b[38;5;124m'\u001b[39m\u001b[38;5;124mcontenido.json\u001b[39m\u001b[38;5;124m'\u001b[39m\n\u001b[1;32m----> 4\u001b[0m \u001b[43mmake_json\u001b[49m\u001b[43m(\u001b[49m\u001b[43mcsvFilePath\u001b[49m\u001b[43m,\u001b[49m\u001b[43m \u001b[49m\u001b[43mjsonFilePath\u001b[49m\u001b[43m)\u001b[49m\n",
      "Input \u001b[1;32mIn [44]\u001b[0m, in \u001b[0;36mmake_json\u001b[1;34m(csvFilePath, jsonFilePath)\u001b[0m\n\u001b[0;32m      5\u001b[0m csvReader \u001b[38;5;241m=\u001b[39m csv\u001b[38;5;241m.\u001b[39mDictReader(csv_file)\n\u001b[0;32m      7\u001b[0m \u001b[38;5;28;01mfor\u001b[39;00m rows \u001b[38;5;129;01min\u001b[39;00m csvReader:\n\u001b[1;32m----> 9\u001b[0m     key \u001b[38;5;241m=\u001b[39m \u001b[43mrows\u001b[49m\u001b[43m[\u001b[49m\u001b[38;5;124;43m'\u001b[39;49m\u001b[38;5;124;43mIndice\u001b[39;49m\u001b[38;5;124;43m'\u001b[39;49m\u001b[43m]\u001b[49m\n\u001b[0;32m     10\u001b[0m     data[key] \u001b[38;5;241m=\u001b[39m rows\n\u001b[0;32m     12\u001b[0m \u001b[38;5;28;01mwith\u001b[39;00m \u001b[38;5;28mopen\u001b[39m(jsonFilePath, \u001b[38;5;124m'\u001b[39m\u001b[38;5;124mw\u001b[39m\u001b[38;5;124m'\u001b[39m, encoding\u001b[38;5;241m=\u001b[39m\u001b[38;5;124m'\u001b[39m\u001b[38;5;124mutf-8\u001b[39m\u001b[38;5;124m'\u001b[39m) \u001b[38;5;28;01mas\u001b[39;00m jsonf:\n",
      "\u001b[1;31mKeyError\u001b[0m: 'Indice'"
     ]
    }
   ],
   "source": [
    "\n",
    "csvFilePath = r'estandar.csv'\n",
    "jsonFilePath = r'contenido.json'\n",
    "\n",
    "make_json(csvFilePath, jsonFilePath)"
   ]
  },
  {
   "cell_type": "code",
   "execution_count": 38,
   "id": "dc5c968a",
   "metadata": {},
   "outputs": [
    {
     "ename": "SyntaxError",
     "evalue": "EOL while scanning string literal (793010724.py, line 8)",
     "output_type": "error",
     "traceback": [
      "\u001b[1;36m  Input \u001b[1;32mIn [38]\u001b[1;36m\u001b[0m\n\u001b[1;33m    \"\"\"\"\u001b[0m\n\u001b[1;37m        \n^\u001b[0m\n\u001b[1;31mSyntaxError\u001b[0m\u001b[1;31m:\u001b[0m EOL while scanning string literal\n"
     ]
    }
   ],
   "source": [
    "\"\"\"\"with open(\"contenido.json\", \"w\") as archivo:\n",
    "    archivo.write(\"\")\n",
    "    archivo.close()\n",
    "pasarlo = pd.DataFrame(pd.read_csv(\"estandar.csv\", sep = \",\", header = 0, index_col = False, on_bad_lines='skip'))\n",
    "pasarlo.to_json(\"contenido.json\", orient = \"records\", date_format = \"epoch\", double_precision = 10, force_ascii = True, date_unit = \"ms\", default_handler = None)\n",
    "print(pasarlo)\n",
    "print(\"Aprende inteligencia artificial gratis: https://creditosrapidos.cash/formacion\")\n",
    "\"\"\"\""
   ]
  },
  {
   "cell_type": "code",
   "execution_count": null,
   "id": "219b242f",
   "metadata": {},
   "outputs": [],
   "source": [
    "# Se busca en el balance del cliente si el tag actual está\n",
    "def compararElementos(csvFileName, tag, patrones = []):\n",
    "    with open(csvFileName, newline=\"\", encoding = 'utf-8') as fileCSV:\n",
    "        reader = csv.DictReader(fileCSV,delimiter=';')\n",
    "      \n",
    "        cont_lis = 0\n",
    "        lista = ''\n",
    "\n",
    "        cont_pat = 0\n",
    "        for row in reader:\n",
    "            if(row[\"nombre_estandar\"].lower() == tag.lower()):     # Comparacion de nombres de cuentas\n",
    "\n",
    "                siEsta = False\n",
    "                for pat in patrones:                               # Validación de que el patrón no se encuentre agregado anteriormente                    \n",
    "                    # El pat toma el listado completo, no cada elemento\n",
    "                    cont_pat = cont_pat + 1\n",
    "                    if(row[\"nopmbre_cliente\"].lower() == pat.lower()):\n",
    "                        siEsta = True\n",
    "\n",
    "                if(siEsta == False):  \n",
    "                    patrones.append(\"\\\"\" +row[\"nopmbre_cliente\"]+ \"\\\"\")        # Se agrega un nuevo elemento al patrón\n",
    "                    \n",
    "        print(patrones)\n",
    "        \n",
    "        if(len(patrones) == 1):                                    # Separación de patrones por comillas\n",
    "            lista = ''+ patrones[0] +''\n",
    "            #print(lista)\n",
    "        else:\n",
    "            cont_lis = 0\n",
    "            for pat in patrones:\n",
    "                \n",
    "                if(cont_lis == 0):\n",
    "                     lista = lista + '\\\"' + pat + '\\\"'     \n",
    "                else:\n",
    "                    if(cont_lis == len(patrones) - 1):\n",
    "                        lista = lista + ','+ pat + ''\n",
    "                    else:\n",
    "                        lista = lista + ','+ pat + ''\n",
    "                    \n",
    "                \n",
    "                cont_lis = cont_lis + 1\n",
    "        #lista = lista_pat + lista\n",
    "        \n",
    "        patrones = []\n",
    "        \n",
    "    fileCSV.close()\n",
    "    print(lista)\n",
    "    return(lista)"
   ]
  },
  {
   "cell_type": "code",
   "execution_count": null,
   "id": "b7e759a8",
   "metadata": {},
   "outputs": [],
   "source": []
  },
  {
   "cell_type": "code",
   "execution_count": null,
   "id": "500d8c39",
   "metadata": {},
   "outputs": [],
   "source": []
  },
  {
   "cell_type": "code",
   "execution_count": null,
   "id": "87a16f30",
   "metadata": {},
   "outputs": [],
   "source": []
  },
  {
   "cell_type": "code",
   "execution_count": null,
   "id": "e0d45f63",
   "metadata": {},
   "outputs": [],
   "source": []
  },
  {
   "cell_type": "code",
   "execution_count": null,
   "id": "f57ea79c",
   "metadata": {},
   "outputs": [],
   "source": []
  }
 ],
 "metadata": {
  "kernelspec": {
   "display_name": "Python 3 (ipykernel)",
   "language": "python",
   "name": "python3"
  },
  "language_info": {
   "codemirror_mode": {
    "name": "ipython",
    "version": 3
   },
   "file_extension": ".py",
   "mimetype": "text/x-python",
   "name": "python",
   "nbconvert_exporter": "python",
   "pygments_lexer": "ipython3",
   "version": "3.9.12"
  }
 },
 "nbformat": 4,
 "nbformat_minor": 5
}
