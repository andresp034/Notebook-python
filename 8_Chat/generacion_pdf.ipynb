{
 "cells": [
  {
   "cell_type": "code",
   "execution_count": 60,
   "id": "a7ee4a2f",
   "metadata": {},
   "outputs": [],
   "source": [
    "import json\n",
    "with open(\"auxiliar.json\", encoding='utf-8') as archivo:\n",
    "    datos = json.load(archivo)\n",
    "    \n",
    "    from fpdf import FPDF\n",
    "\n",
    "    pdf = FPDF(orientation = 'L', unit = 'mm', format='A4') \n",
    "    pdf.add_page()\n",
    "\n",
    "    # TEXTO\n",
    "    pdf.set_font('Arial', '', 10)\n",
    "\n",
    "    # titulo\n",
    "    pdf.cell(w = 0, h = 15, txt = 'Balance General', border = 1, ln=1, align = 'C', fill = 0)\n",
    "    # encabezado\n",
    "    \n",
    "    \n",
    "    pdf.cell(w = 50, h = 15, txt = 'Cuenta', border = 1, align = 'C', fill = 0)\n",
    "    pdf.cell(w = 50, h = 15, txt = 'Debitos', border = 1, align = 'C', fill = 0)\n",
    "    pdf.cell(w = 50, h = 15, txt = 'Creditos', border = 1, align = 'C', fill = 0)\n",
    "    pdf.multi_cell(w = 0, h = 15, txt = 'Descripcion', border = 1, align = 'C', fill = 0)\n",
    "\n",
    "    # valores\n",
    "    for row in datos[\"cuentas\"]:\n",
    "        \n",
    "        pdf.cell(w = 60, h = 9, txt = \"null\", border = 1, align = 'C', fill = 0)\n",
    "        pdf.cell(w = 60, h = 9, txt = \"null\", border = 1, align = 'C', fill = 0)\n",
    "        pdf.cell(w = 30, h = 9, txt = \"null\", border = 1, align = 'C', fill = 0)\n",
    "        pdf.multi_cell(w = 0, h = 9, txt = str(row[\"tag\"]), border = 1, align = 'C', fill = 0)\n",
    "\n",
    "    pdf.output('hoja.pdf')\n"
   ]
  },
  {
   "cell_type": "code",
   "execution_count": null,
   "id": "66796bfa",
   "metadata": {},
   "outputs": [],
   "source": []
  }
 ],
 "metadata": {
  "kernelspec": {
   "display_name": "Python 3 (ipykernel)",
   "language": "python",
   "name": "python3"
  },
  "language_info": {
   "codemirror_mode": {
    "name": "ipython",
    "version": 3
   },
   "file_extension": ".py",
   "mimetype": "text/x-python",
   "name": "python",
   "nbconvert_exporter": "python",
   "pygments_lexer": "ipython3",
   "version": "3.9.12"
  }
 },
 "nbformat": 4,
 "nbformat_minor": 5
}
