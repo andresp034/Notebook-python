{
 "cells": [
  {
   "cell_type": "code",
   "execution_count": 53,
   "id": "64be7791",
   "metadata": {},
   "outputs": [],
   "source": [
    "import tkinter as tk\n",
    "from tkinter import messagebox\n",
    "from tkinter.ttk import Progressbar\n",
    "\n",
    "from time import sleep\n",
    "from multiprocessing import Pool\n",
    "from multiprocessing import Process, current_process"
   ]
  },
  {
   "cell_type": "code",
   "execution_count": 54,
   "id": "74d4345f",
   "metadata": {},
   "outputs": [],
   "source": [
    "class Proceso(tk.Frame):\n",
    "\n",
    "    def __init__(self, master=None):\n",
    "        super().__init__(master)\n",
    "        self.master = master\n",
    "        self.pack()\n",
    "\n",
    "        self.inicializar_gui()\n",
    "\n",
    "    def inicializar_gui(self):\n",
    "        self.progreso = tk.DoubleVar()\n",
    "        self.pbr_tarea = Progressbar(self, length=250, style='black.Horizontal.TProgressbar', variable=self.progreso, maximum=100)\n",
    "        self.pbr_tarea['value'] = 0\n",
    "        self.pbr_tarea.grid(row=0, column=0)\n",
    "\n",
    "        tk.Button(self, text='Iniciar tarea', command=self.iniciar_tarea).grid(row=1, column=0)\n",
    "    \n",
    "    def iniciar_tarea(self):\n",
    "        contador = 0\n",
    "\n",
    "        while contador <= 100:\n",
    "            self.progreso.set(contador)\n",
    "            contador += 10\n",
    "            self.master.update_idletasks()\n",
    "            sleep(1)\n",
    "        \n",
    "        messagebox.showinfo('Mensaje', 'La tarea ha terminado')\n",
    "\n",
    "def main():\n",
    "    app = tk.Tk()\n",
    "    app.title('Proceso')\n",
    "    app.geometry('300x300')\n",
    "\n",
    "    proceso = Proceso(app)\n",
    "    proceso.mainloop()\n",
    "\n",
    "if __name__ == \"__main__\":\n",
    "    main()\n",
    "\n"
   ]
  },
  {
   "cell_type": "code",
   "execution_count": 29,
   "id": "5d7d5e8e",
   "metadata": {},
   "outputs": [
    {
     "data": {
      "text/plain": [
       "''"
      ]
     },
     "execution_count": 29,
     "metadata": {},
     "output_type": "execute_result"
    }
   ],
   "source": []
  },
  {
   "cell_type": "code",
   "execution_count": 46,
   "id": "f81c9a9e",
   "metadata": {},
   "outputs": [],
   "source": [
    "def entrenamiento():\n",
    "    print(\"Entrenando\")"
   ]
  },
  {
   "cell_type": "code",
   "execution_count": 47,
   "id": "da92c626",
   "metadata": {},
   "outputs": [],
   "source": [
    "ventana = tkinter.Tk()\n",
    "ventana.geometry(\"400x300\")\n",
    "\n",
    "boton1 = tkinter.Button(ventana, text = \"Comenzar\", width = 10, height = 5, command = entrenamiento)\n",
    "boton1.grid(row = 2, column = 2)\n"
   ]
  },
  {
   "cell_type": "code",
   "execution_count": 48,
   "id": "77a686c9",
   "metadata": {},
   "outputs": [
    {
     "name": "stdout",
     "output_type": "stream",
     "text": [
      "Entrenando\n",
      "Entrenando\n"
     ]
    }
   ],
   "source": [
    "ventana.mainloop()"
   ]
  },
  {
   "cell_type": "code",
   "execution_count": null,
   "id": "b50308b8",
   "metadata": {},
   "outputs": [],
   "source": [
    "### Creacion del JSON para un solo balance"
   ]
  },
  {
   "cell_type": "code",
   "execution_count": null,
   "id": "7634c09b",
   "metadata": {},
   "outputs": [],
   "source": [
    "with open(fileName, \"w\", encoding = 'utf-8') as file:\n",
    "    with open('balance_libesa.csv', newline=\"\", encoding = 'utf-8') as f:\n",
    "        reader = csv.DictReader(f,delimiter=';')\n",
    "        data = {\"cuentas\": []}\n",
    "        \n",
    "        patrones = []\n",
    "        limit = 0\n",
    "        # Se calcula la cantidad de filas del balance (cantidad de cuentas)\n",
    "        for row in reader:\n",
    "            limit = limit + 1\n",
    "        #print(limit)\n",
    "        \n",
    "        f.seek(0)\n",
    "        cont = 0\n",
    "        \n",
    "        # Se recorren las cuentas\n",
    "        for row in reader:\n",
    "            # Casos especiales para el primer elemento\n",
    "            if (cont == 0 | cont == 1):  \n",
    "                aux = row\n",
    "            else:    \n",
    "                # Caso especial del ultimo elemento\n",
    "                if(cont == limit+1):\n",
    "                    #print(\"Estoy en el limite!!!!!\")\n",
    "                    if(aux[\"id_estandar\"] == row[\"id_estandar\"]):\n",
    "                        print(aux[\"nombre_estandar\"])\n",
    "                        print(row[\"nombre_estandar\"])\n",
    "                        ###### Falta aimplementar agregado cuando la ultima cuenta es igual a la penultima!!!\n",
    "\n",
    "                    else:\n",
    "                        # Se crea el elemento en el caso de que no esté presente anteriormente\n",
    "                        jsonString = '{ \\n\"tag\": \"' + row[\"nombre_estandar\"] + '\",\\n \"patrones\": [\"' + row[\"nopmbre_cliente\"] + ',' + row[\"nombre_estandar\"] + '\"],\\n \"respuestas\": [\"' + row[\"nombre_estandar\"] + '\"] \\n}'\n",
    "                        jsonString = json.loads(jsonString)\n",
    "                        data[\"cuentas\"].append(jsonString)\n",
    "                        aux = row\n",
    "                        patrones.clear()\n",
    "                \n",
    "                else:\n",
    "                    # Casos de elementos comunes\n",
    "                    if((row[\"id_estandar\"]) == aux[\"id_estandar\"]):  ### Si la fila actual sigue siendo del mismo tag\n",
    "\n",
    "                        patrones.append(aux[\"nopmbre_cliente\"])\n",
    "                        aux = row\n",
    "                    else:\n",
    "                                ### la fila tiene -distinto tag\n",
    "\n",
    "                        patrones.append(aux[\"nopmbre_cliente\"])   \n",
    "                        patrones.append(aux[\"nombre_estandar\"])\n",
    "                        str_patrones = \", \".join(patrones)       # Se pasan los patrones a escritura en JSON\n",
    "\n",
    "                        # Se crean los elementos en formato JSON\n",
    "                        jsonString = '{ \\n\"tag\": \"' + aux[\"nombre_estandar\"] + '\",\\n \"patrones\": [\"' + str_patrones + '\"],\\n \"respuestas\": [\"' + aux[\"nombre_estandar\"] + '\"] \\n}'\n",
    "                        jsonString = json.loads(jsonString)\n",
    "                        data[\"cuentas\"].append(jsonString)\n",
    "                        aux = row\n",
    "                        patrones.clear()\n",
    "\n",
    "            cont = cont + 1\n",
    "        #print (cont)\n",
    "        json.dump(data,file,ensure_ascii=False,indent=4) # Se da la estructura a los datos cargados en el JSON\n",
    "        \n",
    "        f.close()\n",
    "    file.close()\n",
    "#data      \n",
    "#type(data[\"cuentas\"][0][\"patrones\"])"
   ]
  },
  {
   "cell_type": "code",
   "execution_count": null,
   "id": "8ff7e811",
   "metadata": {},
   "outputs": [],
   "source": [
    "################## Por ahora sin utilidad !!! ##########################\n",
    "\n",
    "def agregarPatronesAJson(patrones = []):\n",
    "    jsonFileName = \"auxiliar.json\"\n",
    "    with open(jsonFileName, \"w\", encoding = 'utf-8') as fileAux:\n",
    "        try:\n",
    "\n",
    "            count = 0\n",
    "            data = {\"cuentas\": []}\n",
    "    \n",
    "            for tag in patrones:\n",
    "            \n",
    "                jsonString = '{ \\n\"tag\": \"' + row[\"nombre_estandar\"] + '\",\\n \"patrones\": [\"' + patrones[cont] + '\"],\\n \"respuestas\": [\"' + row[\"nombre_estandar\"] + '\"] \\n}'\n",
    "                jsonString = json.loads(jsonString)\n",
    "                data[\"cuentas\"].append(jsonString)\n",
    "                cont = cont + 1\n",
    "            json.dump(data,fileAux,ensure_ascii=False,indent=4)       \n",
    "        \n",
    "            res = True\n",
    "    \n",
    "        except keyError:\n",
    "            res = False\n",
    "\n"
   ]
  },
  {
   "cell_type": "code",
   "execution_count": null,
   "id": "9734124d",
   "metadata": {},
   "outputs": [],
   "source": [
    "ops.reset_default_graph()\n",
    "\n",
    "    ### Creación red neuronal inicial de 4 redes, con 10 neuronas c/u\n",
    "\n",
    "red = tflearn.input_data(shape=[None,len(entrenamiento[0])]) # Datos de entrada a entrenar\n",
    "red = tflearn.fully_connected(red,10)                        # Se crean capas conectadas con 10 unidades/neuronas\n",
    "red = tflearn.fully_connected(red,10)\n",
    "red = tflearn.fully_connected(red,len(salida[0]),activation=\"softmax\") # función de activación de las capas ocultas\n",
    "red = tflearn.regression(red) #permite obtener la probabilidad de que tan eficaz es la clasificacion de los tag\n",
    "\n",
    "modelo = tflearn.DNN(red)\n",
    "#try:\n",
    "#    modelo.load(\"modelo.tflearn\")\n",
    "#except:\n",
    "\n",
    "modelo.fit(entrenamiento,salida,n_epoch=5000,batch_size=40,show_metric=True) #Entrenamiento para el proceso de modelado\n",
    "modelo.save(\"modelo.tflearn\")"
   ]
  },
  {
   "cell_type": "code",
   "execution_count": null,
   "id": "3532dfc3",
   "metadata": {},
   "outputs": [],
   "source": []
  },
  {
   "cell_type": "code",
   "execution_count": null,
   "id": "8b604c8b",
   "metadata": {},
   "outputs": [],
   "source": []
  },
  {
   "cell_type": "code",
   "execution_count": null,
   "id": "1389971e",
   "metadata": {},
   "outputs": [],
   "source": []
  },
  {
   "cell_type": "code",
   "execution_count": null,
   "id": "e5ac91f6",
   "metadata": {},
   "outputs": [],
   "source": []
  }
 ],
 "metadata": {
  "kernelspec": {
   "display_name": "Python 3 (ipykernel)",
   "language": "python",
   "name": "python3"
  },
  "language_info": {
   "codemirror_mode": {
    "name": "ipython",
    "version": 3
   },
   "file_extension": ".py",
   "mimetype": "text/x-python",
   "name": "python",
   "nbconvert_exporter": "python",
   "pygments_lexer": "ipython3",
   "version": "3.9.12"
  }
 },
 "nbformat": 4,
 "nbformat_minor": 5
}
